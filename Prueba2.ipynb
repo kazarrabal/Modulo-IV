{
 "cells": [
  {
   "cell_type": "code",
   "execution_count": 262,
   "metadata": {},
   "outputs": [],
   "source": [
    "import pandas as pd\n",
    "import missingno as msno\n",
    "import numpy as np\n",
    "import math as m\n",
    "%matplotlib inline\n",
    "import matplotlib.pyplot as plt\n",
    "import seaborn as sns\n",
    "import statsmodels.api as sm\n",
    "\n",
    "from sklearn.model_selection import train_test_split\n",
    "from sklearn.linear_model import LinearRegression\n",
    "from sklearn.feature_selection import RFE\n",
    "from sklearn.linear_model import RidgeCV, LassoCV, Ridge, Lasso\n",
    "\n",
    "from sklearn.decomposition import PCA, KernelPCA\n",
    "from sklearn.datasets import make_circles\n",
    "\n",
    "\n",
    "from sklearn.tree import DecisionTreeClassifier\n",
    "from sklearn.metrics import classification_report\n",
    "import sklearn.metrics\n",
    "from sklearn.ensemble import ExtraTreesClassifier"
   ]
  },
  {
   "cell_type": "code",
   "execution_count": 133,
   "metadata": {},
   "outputs": [
    {
     "data": {
      "text/html": [
       "<div>\n",
       "<style scoped>\n",
       "    .dataframe tbody tr th:only-of-type {\n",
       "        vertical-align: middle;\n",
       "    }\n",
       "\n",
       "    .dataframe tbody tr th {\n",
       "        vertical-align: top;\n",
       "    }\n",
       "\n",
       "    .dataframe thead th {\n",
       "        text-align: right;\n",
       "    }\n",
       "</style>\n",
       "<table border=\"1\" class=\"dataframe\">\n",
       "  <thead>\n",
       "    <tr style=\"text-align: right;\">\n",
       "      <th></th>\n",
       "      <th>Unnamed: 0</th>\n",
       "      <th>fixed.acidity</th>\n",
       "      <th>volatile.acidity</th>\n",
       "      <th>citric.acid</th>\n",
       "      <th>residual.sugar</th>\n",
       "      <th>chlorides</th>\n",
       "      <th>free.sulfur.dioxide</th>\n",
       "      <th>total.sulfur.dioxide</th>\n",
       "      <th>density</th>\n",
       "      <th>pH</th>\n",
       "      <th>sulphates</th>\n",
       "      <th>alcohol</th>\n",
       "      <th>quality</th>\n",
       "    </tr>\n",
       "  </thead>\n",
       "  <tbody>\n",
       "    <tr>\n",
       "      <th>0</th>\n",
       "      <td>1</td>\n",
       "      <td>7.4</td>\n",
       "      <td>0.70</td>\n",
       "      <td>0.00</td>\n",
       "      <td>1.9</td>\n",
       "      <td>0.076</td>\n",
       "      <td>11.0</td>\n",
       "      <td>34.0</td>\n",
       "      <td>0.9978</td>\n",
       "      <td>3.51</td>\n",
       "      <td>0.56</td>\n",
       "      <td>9.4</td>\n",
       "      <td>5</td>\n",
       "    </tr>\n",
       "    <tr>\n",
       "      <th>1</th>\n",
       "      <td>2</td>\n",
       "      <td>7.8</td>\n",
       "      <td>0.88</td>\n",
       "      <td>0.00</td>\n",
       "      <td>2.6</td>\n",
       "      <td>0.098</td>\n",
       "      <td>25.0</td>\n",
       "      <td>67.0</td>\n",
       "      <td>0.9968</td>\n",
       "      <td>3.20</td>\n",
       "      <td>0.68</td>\n",
       "      <td>9.8</td>\n",
       "      <td>5</td>\n",
       "    </tr>\n",
       "    <tr>\n",
       "      <th>2</th>\n",
       "      <td>3</td>\n",
       "      <td>7.8</td>\n",
       "      <td>0.76</td>\n",
       "      <td>0.04</td>\n",
       "      <td>2.3</td>\n",
       "      <td>0.092</td>\n",
       "      <td>15.0</td>\n",
       "      <td>54.0</td>\n",
       "      <td>0.9970</td>\n",
       "      <td>3.26</td>\n",
       "      <td>0.65</td>\n",
       "      <td>9.8</td>\n",
       "      <td>5</td>\n",
       "    </tr>\n",
       "    <tr>\n",
       "      <th>3</th>\n",
       "      <td>4</td>\n",
       "      <td>11.2</td>\n",
       "      <td>0.28</td>\n",
       "      <td>0.56</td>\n",
       "      <td>1.9</td>\n",
       "      <td>0.075</td>\n",
       "      <td>17.0</td>\n",
       "      <td>60.0</td>\n",
       "      <td>0.9980</td>\n",
       "      <td>3.16</td>\n",
       "      <td>0.58</td>\n",
       "      <td>9.8</td>\n",
       "      <td>6</td>\n",
       "    </tr>\n",
       "    <tr>\n",
       "      <th>4</th>\n",
       "      <td>5</td>\n",
       "      <td>7.4</td>\n",
       "      <td>0.70</td>\n",
       "      <td>0.00</td>\n",
       "      <td>1.9</td>\n",
       "      <td>0.076</td>\n",
       "      <td>11.0</td>\n",
       "      <td>34.0</td>\n",
       "      <td>0.9978</td>\n",
       "      <td>3.51</td>\n",
       "      <td>0.56</td>\n",
       "      <td>9.4</td>\n",
       "      <td>5</td>\n",
       "    </tr>\n",
       "  </tbody>\n",
       "</table>\n",
       "</div>"
      ],
      "text/plain": [
       "   Unnamed: 0  fixed.acidity  volatile.acidity  citric.acid  residual.sugar  \\\n",
       "0           1            7.4              0.70         0.00             1.9   \n",
       "1           2            7.8              0.88         0.00             2.6   \n",
       "2           3            7.8              0.76         0.04             2.3   \n",
       "3           4           11.2              0.28         0.56             1.9   \n",
       "4           5            7.4              0.70         0.00             1.9   \n",
       "\n",
       "   chlorides  free.sulfur.dioxide  total.sulfur.dioxide  density    pH  \\\n",
       "0      0.076                 11.0                  34.0   0.9978  3.51   \n",
       "1      0.098                 25.0                  67.0   0.9968  3.20   \n",
       "2      0.092                 15.0                  54.0   0.9970  3.26   \n",
       "3      0.075                 17.0                  60.0   0.9980  3.16   \n",
       "4      0.076                 11.0                  34.0   0.9978  3.51   \n",
       "\n",
       "   sulphates  alcohol  quality  \n",
       "0       0.56      9.4        5  \n",
       "1       0.68      9.8        5  \n",
       "2       0.65      9.8        5  \n",
       "3       0.58      9.8        6  \n",
       "4       0.56      9.4        5  "
      ]
     },
     "execution_count": 133,
     "metadata": {},
     "output_type": "execute_result"
    }
   ],
   "source": [
    "df=pd.read_csv('wineQualityReds.csv')\n",
    "df.head()"
   ]
  },
  {
   "cell_type": "code",
   "execution_count": 121,
   "metadata": {},
   "outputs": [],
   "source": [
    "df.drop(['Unnamed: 0'], axis=1, inplace=True)"
   ]
  },
  {
   "cell_type": "code",
   "execution_count": 122,
   "metadata": {},
   "outputs": [
    {
     "data": {
      "text/plain": [
       "Index(['fixed.acidity', 'volatile.acidity', 'citric.acid', 'residual.sugar',\n",
       "       'chlorides', 'free.sulfur.dioxide', 'total.sulfur.dioxide', 'density',\n",
       "       'pH', 'sulphates', 'alcohol', 'quality'],\n",
       "      dtype='object')"
      ]
     },
     "execution_count": 122,
     "metadata": {},
     "output_type": "execute_result"
    }
   ],
   "source": [
    "df.columns"
   ]
  },
  {
   "cell_type": "code",
   "execution_count": 123,
   "metadata": {},
   "outputs": [
    {
     "name": "stdout",
     "output_type": "stream",
     "text": [
      "COLUMNA:  fixed.acidity\n",
      "TIPO:  flotante\n",
      "NUNIQUE:  12\n",
      "UNIQUE:  [ 7 11  6  5  8  4 10  9 12 15 13 14]\n",
      "VALUE COUNTS  7     504\n",
      "8     316\n",
      "6     254\n",
      "9     191\n",
      "10    138\n",
      "11     72\n",
      "5      55\n",
      "12     43\n",
      "13     14\n",
      "15      7\n",
      "4       3\n",
      "14      2\n",
      "Name: fixed.acidity, dtype: int64\n",
      "\n",
      "\n",
      "COLUMNA:  volatile.acidity\n",
      "TIPO:  flotante\n",
      "NUNIQUE:  2\n",
      "UNIQUE:  [0 1]\n",
      "VALUE COUNTS  0    1575\n",
      "1      24\n",
      "Name: volatile.acidity, dtype: int64\n",
      "\n",
      "\n",
      "COLUMNA:  citric.acid\n",
      "TIPO:  flotante\n",
      "NUNIQUE:  2\n",
      "UNIQUE:  [0 1]\n",
      "VALUE COUNTS  0    1598\n",
      "1       1\n",
      "Name: citric.acid, dtype: int64\n",
      "\n",
      "\n",
      "COLUMNA:  residual.sugar\n",
      "TIPO:  flotante\n",
      "NUNIQUE:  15\n",
      "UNIQUE:  [ 1  2  6  3  4 10  5  7 11 15  8  9  0 12 13]\n",
      "VALUE COUNTS  2     895\n",
      "1     462\n",
      "3     104\n",
      "4      51\n",
      "5      33\n",
      "6      22\n",
      "8       9\n",
      "7       9\n",
      "13      4\n",
      "15      3\n",
      "11      2\n",
      "0       2\n",
      "12      1\n",
      "10      1\n",
      "9       1\n",
      "Name: residual.sugar, dtype: int64\n",
      "\n",
      "\n",
      "COLUMNA:  chlorides\n",
      "TIPO:  flotante\n",
      "NUNIQUE:  1\n",
      "UNIQUE:  [0]\n",
      "VALUE COUNTS  0    1599\n",
      "Name: chlorides, dtype: int64\n",
      "\n",
      "\n",
      "COLUMNA:  free.sulfur.dioxide\n",
      "TIPO:  flotante\n",
      "NUNIQUE:  57\n",
      "UNIQUE:  [11 25 15 17 13  9 16 52 51 35  6 29 23 10 21  4 14  8 22 40  5  3  7 12\n",
      " 30 33 50 19 20 27 18 28 34 42 41 37 32 36 24 26 39 68 31 38 43 47  1 54\n",
      " 46 45  2 53 57 48 72 55 66]\n",
      "VALUE COUNTS  6     138\n",
      "5     105\n",
      "10     79\n",
      "15     78\n",
      "12     75\n",
      "7      71\n",
      "9      62\n",
      "16     61\n",
      "17     60\n",
      "11     59\n",
      "13     57\n",
      "8      56\n",
      "14     50\n",
      "3      49\n",
      "18     46\n",
      "4      41\n",
      "21     41\n",
      "19     39\n",
      "24     34\n",
      "23     32\n",
      "26     32\n",
      "20     30\n",
      "27     29\n",
      "25     24\n",
      "28     23\n",
      "29     23\n",
      "32     22\n",
      "22     22\n",
      "31     20\n",
      "34     18\n",
      "30     16\n",
      "35     15\n",
      "33     11\n",
      "36     11\n",
      "38      9\n",
      "40      7\n",
      "41      7\n",
      "39      5\n",
      "37      5\n",
      "48      4\n",
      "51      4\n",
      "1       3\n",
      "42      3\n",
      "43      3\n",
      "45      3\n",
      "52      3\n",
      "68      2\n",
      "50      2\n",
      "55      2\n",
      "46      1\n",
      "47      1\n",
      "53      1\n",
      "54      1\n",
      "57      1\n",
      "66      1\n",
      "2       1\n",
      "72      1\n",
      "Name: free.sulfur.dioxide, dtype: int64\n",
      "\n",
      "\n",
      "COLUMNA:  total.sulfur.dioxide\n",
      "TIPO:  flotante\n",
      "NUNIQUE:  143\n",
      "UNIQUE:  [ 34  67  54  60  40  59  21  18 102  65  29 145 148 103  56  71  37  23\n",
      "  11  35  16  82 113  83  50  15  30  19  87  46  14 114  12  96 119  73\n",
      "  45  10 110  52 112  39  27  94  43  42  80  51  61 136  31 125  24 140\n",
      " 133  85 106  22  36  69  64 153  47 108 111  62  28  89  13  90 134  99\n",
      "  26  63 105  20 141  88 129 128  86 121 101  44   8  49  38 143 144 127\n",
      " 126 120  55  93  95  41  58  72  81 109  33  53  98  48  70  25 135  92\n",
      "  74  32  77 165  75 124  78 122  66  68  17  91  76 151 142 116 149  57\n",
      " 104  84 147 155 152   9 139 130   7 100 115   6  79 278 289 160 131]\n",
      "VALUE COUNTS  28     43\n",
      "24     36\n",
      "15     35\n",
      "18     35\n",
      "23     34\n",
      "14     33\n",
      "20     33\n",
      "31     32\n",
      "38     31\n",
      "27     30\n",
      "19     29\n",
      "12     29\n",
      "13     28\n",
      "25     27\n",
      "17     27\n",
      "10     27\n",
      "35     26\n",
      "16     26\n",
      "11     26\n",
      "42     26\n",
      "37     26\n",
      "21     25\n",
      "22     25\n",
      "26     24\n",
      "47     24\n",
      "44     23\n",
      "49     21\n",
      "48     21\n",
      "45     20\n",
      "34     20\n",
      "       ..\n",
      "111     3\n",
      "134     2\n",
      "83      2\n",
      "93      2\n",
      "143     2\n",
      "151     2\n",
      "103     2\n",
      "136     2\n",
      "135     2\n",
      "115     2\n",
      "128     2\n",
      "127     2\n",
      "125     2\n",
      "114     2\n",
      "120     2\n",
      "148     2\n",
      "149     1\n",
      "155     1\n",
      "160     1\n",
      "153     1\n",
      "152     1\n",
      "165     1\n",
      "139     1\n",
      "142     1\n",
      "140     1\n",
      "116     1\n",
      "278     1\n",
      "130     1\n",
      "126     1\n",
      "289     1\n",
      "Name: total.sulfur.dioxide, Length: 143, dtype: int64\n",
      "\n",
      "\n",
      "COLUMNA:  density\n",
      "TIPO:  flotante\n",
      "NUNIQUE:  2\n",
      "UNIQUE:  [0 1]\n",
      "VALUE COUNTS  0    1518\n",
      "1      81\n",
      "Name: density, dtype: int64\n",
      "\n",
      "\n",
      "COLUMNA:  pH\n",
      "TIPO:  flotante\n",
      "NUNIQUE:  3\n",
      "UNIQUE:  [3 2 4]\n",
      "VALUE COUNTS  3    1568\n",
      "2      29\n",
      "4       2\n",
      "Name: pH, dtype: int64\n",
      "\n",
      "\n",
      "COLUMNA:  sulphates\n",
      "TIPO:  flotante\n",
      "NUNIQUE:  3\n",
      "UNIQUE:  [0 1 2]\n",
      "VALUE COUNTS  0    1540\n",
      "1      58\n",
      "2       1\n",
      "Name: sulphates, dtype: int64\n",
      "\n",
      "\n",
      "COLUMNA:  alcohol\n",
      "TIPO:  flotante\n",
      "NUNIQUE:  7\n",
      "UNIQUE:  [ 9 10 13 12 14 11  8]\n",
      "VALUE COUNTS  9     673\n",
      "10    452\n",
      "11    305\n",
      "12    133\n",
      "13     21\n",
      "14      8\n",
      "8       7\n",
      "Name: alcohol, dtype: int64\n",
      "\n",
      "\n",
      "COLUMNA:  quality\n",
      "TIPO:  entero\n",
      "NUNIQUE:  6\n",
      "UNIQUE:  [5 6 7 4 8 3]\n",
      "VALUE COUNTS  5    681\n",
      "6    638\n",
      "7    199\n",
      "4     53\n",
      "8     18\n",
      "3     10\n",
      "Name: quality, dtype: int64\n",
      "\n",
      "\n"
     ]
    }
   ],
   "source": [
    "l = []\n",
    "bandera = np.NAN\n",
    "for column in df.columns:\n",
    "    if df[column].dtype == np.int64:\n",
    "        bandera = 'entero'\n",
    "    elif df[column].dtype == np.float64:\n",
    "        bandera = 'flotante'\n",
    "    else:\n",
    "        bandera = 'otro'\n",
    "        \n",
    "    try:\n",
    "        df[column] =df[column].astype('int64')\n",
    "    except:\n",
    "        l.append(column)\n",
    "        \n",
    "    print('COLUMNA: ', column)\n",
    "    print('TIPO: ', bandera)\n",
    "    print('NUNIQUE: ', df[column].nunique())\n",
    "    print('UNIQUE: ', df[column].unique())\n",
    "    print('VALUE COUNTS ', df[column].value_counts())\n",
    "    print('\\n')"
   ]
  },
  {
   "cell_type": "code",
   "execution_count": 124,
   "metadata": {},
   "outputs": [
    {
     "data": {
      "text/plain": [
       "<matplotlib.axes._subplots.AxesSubplot at 0x7f0056487470>"
      ]
     },
     "execution_count": 124,
     "metadata": {},
     "output_type": "execute_result"
    },
    {
     "data": {
      "image/png": "[encoded data removed]",
      "text/plain": [
       "<Figure size 1728x720 with 3 Axes>"
      ]
     },
     "metadata": {
      "needs_background": "light"
     },
     "output_type": "display_data"
    }
   ],
   "source": [
    "msno.bar(df_copy)"
   ]
  },
  {
   "cell_type": "code",
   "execution_count": 134,
   "metadata": {},
   "outputs": [],
   "source": [
    "all_variables = ['fixed.acidity', 'volatile.acidity', 'citric.acid', 'residual.sugar',\n",
    "       'chlorides', 'free.sulfur.dioxide', 'total.sulfur.dioxide', 'density',\n",
    "       'pH', 'sulphates', 'alcohol', 'quality'] \n",
    "features = ['volatile.acidity', 'citric.acid', 'residual.sugar',\n",
    "       'chlorides', 'free.sulfur.dioxide', 'total.sulfur.dioxide', 'density',\n",
    "       'pH', 'sulphates', 'alcohol']\n",
    "target = ['quality']"
   ]
  },
  {
   "cell_type": "code",
   "execution_count": 135,
   "metadata": {},
   "outputs": [
    {
     "data": {
      "text/html": [
       "<div>\n",
       "<style scoped>\n",
       "    .dataframe tbody tr th:only-of-type {\n",
       "        vertical-align: middle;\n",
       "    }\n",
       "\n",
       "    .dataframe tbody tr th {\n",
       "        vertical-align: top;\n",
       "    }\n",
       "\n",
       "    .dataframe thead th {\n",
       "        text-align: right;\n",
       "    }\n",
       "</style>\n",
       "<table border=\"1\" class=\"dataframe\">\n",
       "  <thead>\n",
       "    <tr style=\"text-align: right;\">\n",
       "      <th></th>\n",
       "      <th>volatile.acidity</th>\n",
       "      <th>citric.acid</th>\n",
       "      <th>residual.sugar</th>\n",
       "      <th>chlorides</th>\n",
       "      <th>free.sulfur.dioxide</th>\n",
       "      <th>total.sulfur.dioxide</th>\n",
       "      <th>density</th>\n",
       "      <th>pH</th>\n",
       "      <th>sulphates</th>\n",
       "      <th>alcohol</th>\n",
       "    </tr>\n",
       "  </thead>\n",
       "  <tbody>\n",
       "    <tr>\n",
       "      <th>0</th>\n",
       "      <td>0.397260</td>\n",
       "      <td>0.00</td>\n",
       "      <td>0.068493</td>\n",
       "      <td>0.106845</td>\n",
       "      <td>0.140845</td>\n",
       "      <td>0.098940</td>\n",
       "      <td>0.567548</td>\n",
       "      <td>0.606299</td>\n",
       "      <td>0.137725</td>\n",
       "      <td>0.153846</td>\n",
       "    </tr>\n",
       "    <tr>\n",
       "      <th>1</th>\n",
       "      <td>0.520548</td>\n",
       "      <td>0.00</td>\n",
       "      <td>0.116438</td>\n",
       "      <td>0.143573</td>\n",
       "      <td>0.338028</td>\n",
       "      <td>0.215548</td>\n",
       "      <td>0.494126</td>\n",
       "      <td>0.362205</td>\n",
       "      <td>0.209581</td>\n",
       "      <td>0.215385</td>\n",
       "    </tr>\n",
       "    <tr>\n",
       "      <th>2</th>\n",
       "      <td>0.438356</td>\n",
       "      <td>0.04</td>\n",
       "      <td>0.095890</td>\n",
       "      <td>0.133556</td>\n",
       "      <td>0.197183</td>\n",
       "      <td>0.169611</td>\n",
       "      <td>0.508811</td>\n",
       "      <td>0.409449</td>\n",
       "      <td>0.191617</td>\n",
       "      <td>0.215385</td>\n",
       "    </tr>\n",
       "    <tr>\n",
       "      <th>3</th>\n",
       "      <td>0.109589</td>\n",
       "      <td>0.56</td>\n",
       "      <td>0.068493</td>\n",
       "      <td>0.105175</td>\n",
       "      <td>0.225352</td>\n",
       "      <td>0.190813</td>\n",
       "      <td>0.582232</td>\n",
       "      <td>0.330709</td>\n",
       "      <td>0.149701</td>\n",
       "      <td>0.215385</td>\n",
       "    </tr>\n",
       "    <tr>\n",
       "      <th>4</th>\n",
       "      <td>0.397260</td>\n",
       "      <td>0.00</td>\n",
       "      <td>0.068493</td>\n",
       "      <td>0.106845</td>\n",
       "      <td>0.140845</td>\n",
       "      <td>0.098940</td>\n",
       "      <td>0.567548</td>\n",
       "      <td>0.606299</td>\n",
       "      <td>0.137725</td>\n",
       "      <td>0.153846</td>\n",
       "    </tr>\n",
       "  </tbody>\n",
       "</table>\n",
       "</div>"
      ],
      "text/plain": [
       "   volatile.acidity  citric.acid  residual.sugar  chlorides  \\\n",
       "0          0.397260         0.00        0.068493   0.106845   \n",
       "1          0.520548         0.00        0.116438   0.143573   \n",
       "2          0.438356         0.04        0.095890   0.133556   \n",
       "3          0.109589         0.56        0.068493   0.105175   \n",
       "4          0.397260         0.00        0.068493   0.106845   \n",
       "\n",
       "   free.sulfur.dioxide  total.sulfur.dioxide   density        pH  sulphates  \\\n",
       "0             0.140845              0.098940  0.567548  0.606299   0.137725   \n",
       "1             0.338028              0.215548  0.494126  0.362205   0.209581   \n",
       "2             0.197183              0.169611  0.508811  0.409449   0.191617   \n",
       "3             0.225352              0.190813  0.582232  0.330709   0.149701   \n",
       "4             0.140845              0.098940  0.567548  0.606299   0.137725   \n",
       "\n",
       "    alcohol  \n",
       "0  0.153846  \n",
       "1  0.215385  \n",
       "2  0.215385  \n",
       "3  0.215385  \n",
       "4  0.153846  "
      ]
     },
     "execution_count": 135,
     "metadata": {},
     "output_type": "execute_result"
    }
   ],
   "source": [
    "#Normalizamos\n",
    "from sklearn.preprocessing import MinMaxScaler\n",
    "scaler = MinMaxScaler()\n",
    "df_sc = pd.DataFrame(scaler.fit_transform(df[features]),\n",
    "                 columns=features)\n",
    "df_sc.head()"
   ]
  },
  {
   "cell_type": "code",
   "execution_count": 136,
   "metadata": {},
   "outputs": [
    {
     "data": {
      "text/html": [
       "<div>\n",
       "<style scoped>\n",
       "    .dataframe tbody tr th:only-of-type {\n",
       "        vertical-align: middle;\n",
       "    }\n",
       "\n",
       "    .dataframe tbody tr th {\n",
       "        vertical-align: top;\n",
       "    }\n",
       "\n",
       "    .dataframe thead th {\n",
       "        text-align: right;\n",
       "    }\n",
       "</style>\n",
       "<table border=\"1\" class=\"dataframe\">\n",
       "  <thead>\n",
       "    <tr style=\"text-align: right;\">\n",
       "      <th></th>\n",
       "      <th>volatile.acidity</th>\n",
       "      <th>citric.acid</th>\n",
       "      <th>residual.sugar</th>\n",
       "      <th>chlorides</th>\n",
       "      <th>free.sulfur.dioxide</th>\n",
       "      <th>total.sulfur.dioxide</th>\n",
       "      <th>density</th>\n",
       "      <th>pH</th>\n",
       "      <th>sulphates</th>\n",
       "      <th>alcohol</th>\n",
       "    </tr>\n",
       "  </thead>\n",
       "  <tbody>\n",
       "    <tr>\n",
       "      <th>0</th>\n",
       "      <td>-0.291142</td>\n",
       "      <td>0.171990</td>\n",
       "      <td>-0.166568</td>\n",
       "      <td>0.033076</td>\n",
       "      <td>-0.027517</td>\n",
       "      <td>-0.091408</td>\n",
       "      <td>-0.041409</td>\n",
       "      <td>-0.009797</td>\n",
       "      <td>-0.018536</td>\n",
       "      <td>0.023465</td>\n",
       "    </tr>\n",
       "    <tr>\n",
       "      <th>1</th>\n",
       "      <td>-0.251650</td>\n",
       "      <td>0.242051</td>\n",
       "      <td>0.047723</td>\n",
       "      <td>0.026979</td>\n",
       "      <td>0.140458</td>\n",
       "      <td>0.128519</td>\n",
       "      <td>0.061834</td>\n",
       "      <td>-0.069521</td>\n",
       "      <td>-0.021733</td>\n",
       "      <td>-0.021300</td>\n",
       "    </tr>\n",
       "    <tr>\n",
       "      <th>2</th>\n",
       "      <td>-0.208911</td>\n",
       "      <td>0.163710</td>\n",
       "      <td>-0.071564</td>\n",
       "      <td>0.009940</td>\n",
       "      <td>0.082234</td>\n",
       "      <td>0.068192</td>\n",
       "      <td>0.042299</td>\n",
       "      <td>-0.019219</td>\n",
       "      <td>-0.041466</td>\n",
       "      <td>0.006652</td>\n",
       "    </tr>\n",
       "    <tr>\n",
       "      <th>3</th>\n",
       "      <td>0.342741</td>\n",
       "      <td>0.048451</td>\n",
       "      <td>0.015070</td>\n",
       "      <td>-0.107319</td>\n",
       "      <td>-0.133499</td>\n",
       "      <td>0.012861</td>\n",
       "      <td>-0.029734</td>\n",
       "      <td>-0.011565</td>\n",
       "      <td>-0.014732</td>\n",
       "      <td>0.021156</td>\n",
       "    </tr>\n",
       "    <tr>\n",
       "      <th>4</th>\n",
       "      <td>-0.291142</td>\n",
       "      <td>0.171990</td>\n",
       "      <td>-0.166568</td>\n",
       "      <td>0.033076</td>\n",
       "      <td>-0.027517</td>\n",
       "      <td>-0.091408</td>\n",
       "      <td>-0.041409</td>\n",
       "      <td>-0.009797</td>\n",
       "      <td>-0.018536</td>\n",
       "      <td>0.023465</td>\n",
       "    </tr>\n",
       "  </tbody>\n",
       "</table>\n",
       "</div>"
      ],
      "text/plain": [
       "   volatile.acidity  citric.acid  residual.sugar  chlorides  \\\n",
       "0         -0.291142     0.171990       -0.166568   0.033076   \n",
       "1         -0.251650     0.242051        0.047723   0.026979   \n",
       "2         -0.208911     0.163710       -0.071564   0.009940   \n",
       "3          0.342741     0.048451        0.015070  -0.107319   \n",
       "4         -0.291142     0.171990       -0.166568   0.033076   \n",
       "\n",
       "   free.sulfur.dioxide  total.sulfur.dioxide   density        pH  sulphates  \\\n",
       "0            -0.027517             -0.091408 -0.041409 -0.009797  -0.018536   \n",
       "1             0.140458              0.128519  0.061834 -0.069521  -0.021733   \n",
       "2             0.082234              0.068192  0.042299 -0.019219  -0.041466   \n",
       "3            -0.133499              0.012861 -0.029734 -0.011565  -0.014732   \n",
       "4            -0.027517             -0.091408 -0.041409 -0.009797  -0.018536   \n",
       "\n",
       "    alcohol  \n",
       "0  0.023465  \n",
       "1 -0.021300  \n",
       "2  0.006652  \n",
       "3  0.021156  \n",
       "4  0.023465  "
      ]
     },
     "execution_count": 136,
     "metadata": {},
     "output_type": "execute_result"
    }
   ],
   "source": [
    "#Componentes Principales\n",
    "pca = PCA()\n",
    "df_pca = pd.DataFrame(pca.fit_transform(df_sc[features]),\n",
    "                     columns=features)\n",
    "df_pca.head()"
   ]
  },
  {
   "cell_type": "code",
   "execution_count": 137,
   "metadata": {},
   "outputs": [
    {
     "data": {
      "text/plain": [
       "array([0.31191478, 0.21990967, 0.16587817, 0.07511566, 0.05888216,\n",
       "       0.0551238 , 0.0403364 , 0.02993727, 0.02704141, 0.01586069])"
      ]
     },
     "execution_count": 137,
     "metadata": {},
     "output_type": "execute_result"
    }
   ],
   "source": [
    "explained_variance = pca.explained_variance_ratio_\n",
    "explained_variance"
   ]
  },
  {
   "cell_type": "code",
   "execution_count": 138,
   "metadata": {},
   "outputs": [
    {
     "data": {
      "text/html": [
       "<div>\n",
       "<style scoped>\n",
       "    .dataframe tbody tr th:only-of-type {\n",
       "        vertical-align: middle;\n",
       "    }\n",
       "\n",
       "    .dataframe tbody tr th {\n",
       "        vertical-align: top;\n",
       "    }\n",
       "\n",
       "    .dataframe thead th {\n",
       "        text-align: right;\n",
       "    }\n",
       "</style>\n",
       "<table border=\"1\" class=\"dataframe\">\n",
       "  <thead>\n",
       "    <tr style=\"text-align: right;\">\n",
       "      <th></th>\n",
       "      <th>PC1</th>\n",
       "      <th>PC2</th>\n",
       "      <th>PC3</th>\n",
       "      <th>PC4</th>\n",
       "      <th>PC5</th>\n",
       "      <th>PC6</th>\n",
       "      <th>PC7</th>\n",
       "      <th>PC8</th>\n",
       "      <th>PC9</th>\n",
       "      <th>PC10</th>\n",
       "      <th>quality</th>\n",
       "    </tr>\n",
       "  </thead>\n",
       "  <tbody>\n",
       "    <tr>\n",
       "      <th>0</th>\n",
       "      <td>-0.291142</td>\n",
       "      <td>0.171990</td>\n",
       "      <td>-0.166568</td>\n",
       "      <td>0.033076</td>\n",
       "      <td>-0.027517</td>\n",
       "      <td>-0.091408</td>\n",
       "      <td>-0.041409</td>\n",
       "      <td>-0.009797</td>\n",
       "      <td>-0.018536</td>\n",
       "      <td>0.023465</td>\n",
       "      <td>5</td>\n",
       "    </tr>\n",
       "    <tr>\n",
       "      <th>1</th>\n",
       "      <td>-0.251650</td>\n",
       "      <td>0.242051</td>\n",
       "      <td>0.047723</td>\n",
       "      <td>0.026979</td>\n",
       "      <td>0.140458</td>\n",
       "      <td>0.128519</td>\n",
       "      <td>0.061834</td>\n",
       "      <td>-0.069521</td>\n",
       "      <td>-0.021733</td>\n",
       "      <td>-0.021300</td>\n",
       "      <td>5</td>\n",
       "    </tr>\n",
       "    <tr>\n",
       "      <th>2</th>\n",
       "      <td>-0.208911</td>\n",
       "      <td>0.163710</td>\n",
       "      <td>-0.071564</td>\n",
       "      <td>0.009940</td>\n",
       "      <td>0.082234</td>\n",
       "      <td>0.068192</td>\n",
       "      <td>0.042299</td>\n",
       "      <td>-0.019219</td>\n",
       "      <td>-0.041466</td>\n",
       "      <td>0.006652</td>\n",
       "      <td>5</td>\n",
       "    </tr>\n",
       "    <tr>\n",
       "      <th>3</th>\n",
       "      <td>0.342741</td>\n",
       "      <td>0.048451</td>\n",
       "      <td>0.015070</td>\n",
       "      <td>-0.107319</td>\n",
       "      <td>-0.133499</td>\n",
       "      <td>0.012861</td>\n",
       "      <td>-0.029734</td>\n",
       "      <td>-0.011565</td>\n",
       "      <td>-0.014732</td>\n",
       "      <td>0.021156</td>\n",
       "      <td>6</td>\n",
       "    </tr>\n",
       "    <tr>\n",
       "      <th>4</th>\n",
       "      <td>-0.291142</td>\n",
       "      <td>0.171990</td>\n",
       "      <td>-0.166568</td>\n",
       "      <td>0.033076</td>\n",
       "      <td>-0.027517</td>\n",
       "      <td>-0.091408</td>\n",
       "      <td>-0.041409</td>\n",
       "      <td>-0.009797</td>\n",
       "      <td>-0.018536</td>\n",
       "      <td>0.023465</td>\n",
       "      <td>5</td>\n",
       "    </tr>\n",
       "  </tbody>\n",
       "</table>\n",
       "</div>"
      ],
      "text/plain": [
       "        PC1       PC2       PC3       PC4       PC5       PC6       PC7  \\\n",
       "0 -0.291142  0.171990 -0.166568  0.033076 -0.027517 -0.091408 -0.041409   \n",
       "1 -0.251650  0.242051  0.047723  0.026979  0.140458  0.128519  0.061834   \n",
       "2 -0.208911  0.163710 -0.071564  0.009940  0.082234  0.068192  0.042299   \n",
       "3  0.342741  0.048451  0.015070 -0.107319 -0.133499  0.012861 -0.029734   \n",
       "4 -0.291142  0.171990 -0.166568  0.033076 -0.027517 -0.091408 -0.041409   \n",
       "\n",
       "        PC8       PC9      PC10  quality  \n",
       "0 -0.009797 -0.018536  0.023465        5  \n",
       "1 -0.069521 -0.021733 -0.021300        5  \n",
       "2 -0.019219 -0.041466  0.006652        5  \n",
       "3 -0.011565 -0.014732  0.021156        6  \n",
       "4 -0.009797 -0.018536  0.023465        5  "
      ]
     },
     "execution_count": 138,
     "metadata": {},
     "output_type": "execute_result"
    }
   ],
   "source": [
    "df_pca['quality'] = df[target]\n",
    "df_pca.columns = ['PC1', 'PC2','PC3','PC4','PC5','PC6','PC7','PC8','PC9','PC10','quality']\n",
    "df_pca.head()"
   ]
  },
  {
   "cell_type": "code",
   "execution_count": 139,
   "metadata": {},
   "outputs": [
    {
     "data": {
      "image/png": "[encoded data removed]",
      "text/plain": [
       "<Figure size 432x288 with 1 Axes>"
      ]
     },
     "metadata": {
      "needs_background": "light"
     },
     "output_type": "display_data"
    }
   ],
   "source": [
    "fig = plt.figure()\n",
    "ax = fig.add_subplot(1,1,1) \n",
    "ax.set_xlabel('Principal Component 1') \n",
    "ax.set_ylabel('Principal Component 2') \n",
    "ax.set_title('2 component PCA') \n",
    "targets = [7, 3, 8]\n",
    "colors = ['r', 'g', 'b']\n",
    "\n",
    "for target, color in zip(targets,colors):\n",
    "    indicesToKeep = df_pca['quality'] == target\n",
    "    ax.scatter(df_pca.loc[indicesToKeep, 'PC1']\n",
    "    , df_pca.loc[indicesToKeep, 'PC2']\n",
    "    , c = color\n",
    "    , s = 50)\n",
    "ax.legend(targets)\n",
    "ax.grid()"
   ]
  },
  {
   "cell_type": "code",
   "execution_count": 142,
   "metadata": {},
   "outputs": [
    {
     "data": {
      "image/png": "[encoded data removed]",
      "text/plain": [
       "<Figure size 864x720 with 2 Axes>"
      ]
     },
     "metadata": {
      "needs_background": "light"
     },
     "output_type": "display_data"
    }
   ],
   "source": [
    "plt.figure(figsize=(12,10))\n",
    "cor = df.corr()\n",
    "sns.heatmap(cor, annot=True, cmap=plt.cm.Reds)\n",
    "plt.show()"
   ]
  },
  {
   "cell_type": "code",
   "execution_count": 144,
   "metadata": {},
   "outputs": [
    {
     "data": {
      "text/plain": [
       "volatile.acidity    0.390558\n",
       "citric.acid         0.226373\n",
       "sulphates           0.251397\n",
       "alcohol             0.476166\n",
       "quality             1.000000\n",
       "Name: quality, dtype: float64"
      ]
     },
     "execution_count": 144,
     "metadata": {},
     "output_type": "execute_result"
    }
   ],
   "source": [
    "cor_target = abs(cor[\"quality\"])\n",
    "\n",
    "#Selección de características altamente correlacionadas\n",
    "relevant_features = cor_target[cor_target>0.2]\n",
    "relevant_features"
   ]
  },
  {
   "cell_type": "code",
   "execution_count": 290,
   "metadata": {},
   "outputs": [
    {
     "name": "stdout",
     "output_type": "stream",
     "text": [
      "[5 5 5 ... 6 5 6]\n"
     ]
    }
   ],
   "source": [
    "X = df_pca.iloc[:, [1,2,3,4,5,6,7,8]].values\n",
    "y = df_pca.iloc[:, 10].values\n",
    "print(y)"
   ]
  },
  {
   "cell_type": "code",
   "execution_count": 291,
   "metadata": {},
   "outputs": [],
   "source": [
    "# Splitting the dataset into the Training set and Test set\n",
    "from sklearn.model_selection import train_test_split\n",
    "X_train, X_test, y_train, y_test = train_test_split(X, y, test_size = 0.20, random_state = 0)"
   ]
  },
  {
   "cell_type": "code",
   "execution_count": 292,
   "metadata": {},
   "outputs": [],
   "source": [
    "# Feature Scaling\n",
    "from sklearn.preprocessing import StandardScaler\n",
    "sc = StandardScaler()\n",
    "X_train = sc.fit_transform(X_train) \n",
    "X_test = sc.transform(X_test)"
   ]
  },
  {
   "cell_type": "code",
   "execution_count": 293,
   "metadata": {},
   "outputs": [
    {
     "data": {
      "text/plain": [
       "RandomForestClassifier(bootstrap=True, class_weight=None, criterion='entropy',\n",
       "            max_depth=None, max_features='auto', max_leaf_nodes=None,\n",
       "            min_impurity_decrease=0.0, min_impurity_split=None,\n",
       "            min_samples_leaf=1, min_samples_split=2,\n",
       "            min_weight_fraction_leaf=0.0, n_estimators=10, n_jobs=None,\n",
       "            oob_score=False, random_state=0, verbose=0, warm_start=False)"
      ]
     },
     "execution_count": 293,
     "metadata": {},
     "output_type": "execute_result"
    }
   ],
   "source": [
    "# Fitting Random Forest Classification to the Training set\n",
    "from sklearn.ensemble import RandomForestClassifier\n",
    "classifier = RandomForestClassifier(n_estimators = 10, criterion = 'entropy', random_state = 0) \n",
    "classifier.fit(X_train, y_train)"
   ]
  },
  {
   "cell_type": "code",
   "execution_count": 294,
   "metadata": {},
   "outputs": [],
   "source": [
    "# Predicting the Test set results\n",
    "y_pred = classifier.predict(X_test)"
   ]
  },
  {
   "cell_type": "code",
   "execution_count": 295,
   "metadata": {},
   "outputs": [
    {
     "name": "stdout",
     "output_type": "stream",
     "text": [
      "0.684375\n"
     ]
    }
   ],
   "source": [
    "from sklearn import metrics\n",
    "print(metrics.accuracy_score(y_test, y_pred))"
   ]
  },
  {
   "cell_type": "code",
   "execution_count": 296,
   "metadata": {},
   "outputs": [
    {
     "data": {
      "text/plain": [
       "<matplotlib.axes._subplots.AxesSubplot at 0x7f00564cec88>"
      ]
     },
     "execution_count": 296,
     "metadata": {},
     "output_type": "execute_result"
    },
    {
     "data": {
      "image/png": "[encoded data removed]",
      "text/plain": [
       "<Figure size 432x288 with 2 Axes>"
      ]
     },
     "metadata": {
      "needs_background": "light"
     },
     "output_type": "display_data"
    }
   ],
   "source": [
    "# Making the Confusion Matrix\n",
    "from sklearn.metrics import confusion_matrix \n",
    "import seaborn as sn\n",
    "cm = pd.DataFrame(confusion_matrix(y_test, y_pred))\n",
    "sn.heatmap(cm, annot=True, annot_kws={\"size\": 12}) # font size"
   ]
  },
  {
   "cell_type": "code",
   "execution_count": 297,
   "metadata": {},
   "outputs": [],
   "source": [
    "model = ExtraTreesClassifier()"
   ]
  },
  {
   "cell_type": "code",
   "execution_count": 298,
   "metadata": {},
   "outputs": [
    {
     "name": "stderr",
     "output_type": "stream",
     "text": [
      "/home/vagrant/anaconda3/lib/python3.7/site-packages/sklearn/ensemble/forest.py:246: FutureWarning: The default value of n_estimators will change from 10 in version 0.20 to 100 in 0.22.\n",
      "  \"10 in version 0.20 to 100 in 0.22.\", FutureWarning)\n"
     ]
    },
    {
     "data": {
      "text/plain": [
       "ExtraTreesClassifier(bootstrap=False, class_weight=None, criterion='gini',\n",
       "           max_depth=None, max_features='auto', max_leaf_nodes=None,\n",
       "           min_impurity_decrease=0.0, min_impurity_split=None,\n",
       "           min_samples_leaf=1, min_samples_split=2,\n",
       "           min_weight_fraction_leaf=0.0, n_estimators=10, n_jobs=None,\n",
       "           oob_score=False, random_state=None, verbose=0, warm_start=False)"
      ]
     },
     "execution_count": 298,
     "metadata": {},
     "output_type": "execute_result"
    }
   ],
   "source": [
    "model.fit(X_train,y_train)"
   ]
  },
  {
   "cell_type": "code",
   "execution_count": 299,
   "metadata": {},
   "outputs": [
    {
     "name": "stdout",
     "output_type": "stream",
     "text": [
      "[0.2044565  0.11327467 0.11147958 0.10841977 0.12751028 0.10996594\n",
      " 0.11559078 0.10930249]\n"
     ]
    }
   ],
   "source": [
    "print(model.feature_importances_)"
   ]
  },
  {
   "cell_type": "code",
   "execution_count": 300,
   "metadata": {},
   "outputs": [
    {
     "data": {
      "image/png": "[encoded data removed]",
      "text/plain": [
       "<Figure size 432x288 with 1 Axes>"
      ]
     },
     "metadata": {
      "needs_background": "light"
     },
     "output_type": "display_data"
    }
   ],
   "source": [
    "from matplotlib import pyplot\n",
    "pyplot.bar(range(len(model.feature_importances_)), model.feature_importances_)\n",
    "pyplot.show()"
   ]
  },
  {
   "cell_type": "code",
   "execution_count": 271,
   "metadata": {},
   "outputs": [
    {
     "data": {
      "text/plain": [
       "[<matplotlib.lines.Line2D at 0x7f00563e62e8>]"
      ]
     },
     "execution_count": 271,
     "metadata": {},
     "output_type": "execute_result"
    },
    {
     "data": {
      "image/png": "[encoded data removed]",
      "text/plain": [
       "<Figure size 432x288 with 1 Axes>"
      ]
     },
     "metadata": {
      "needs_background": "light"
     },
     "output_type": "display_data"
    }
   ],
   "source": [
    "trees = range(25)\n",
    "accuracy = np.zeros(25)\n",
    "\n",
    "for idx in range(len(trees)):\n",
    "    classifier = RandomForestClassifier(n_estimators = idx + 1)\n",
    "    classifier = classifier.fit(X_train,y_train)\n",
    "    predictions = classifier.predict(X_test)\n",
    "    accuracy[idx] = sklearn.metrics.accuracy_score(y_test, y_pred)\n",
    "\n",
    "plt.cla()\n",
    "plt.plot(trees, accuracy)"
   ]
  },
  {
   "cell_type": "code",
   "execution_count": null,
   "metadata": {},
   "outputs": [],
   "source": []
  },
  {
   "cell_type": "code",
   "execution_count": null,
   "metadata": {},
   "outputs": [],
   "source": []
  },
  {
   "cell_type": "code",
   "execution_count": null,
   "metadata": {},
   "outputs": [],
   "source": []
  }
 ],
 "metadata": {
  "kernelspec": {
   "display_name": "Python 3",
   "language": "python",
   "name": "python3"
  },
  "language_info": {
   "codemirror_mode": {
    "name": "ipython",
    "version": 3
   },
   "file_extension": ".py",
   "mimetype": "text/x-python",
   "name": "python",
   "nbconvert_exporter": "python",
   "pygments_lexer": "ipython3",
   "version": "3.7.3"
  }
 },
 "nbformat": 4,
 "nbformat_minor": 2
}
